{
 "cells": [
  {
   "cell_type": "code",
   "execution_count": 1,
   "metadata": {},
   "outputs": [],
   "source": [
    "from IPython.core.interactiveshell import InteractiveShell # Nos permite mostar más de una salida por celda\n",
    "InteractiveShell.ast_node_interactivity = \"all\" # Nos permite mostar más de una salida por celda\n",
    "\n",
    "import pandas as pd\n",
    "import numpy as np\n",
    "import mysql.connector\n",
    "pd.options.display.max_columns=None"
   ]
  },
  {
   "cell_type": "code",
   "execution_count": 2,
   "metadata": {},
   "outputs": [],
   "source": [
    "class Crear_bbdd_tablas:\n",
    "    \n",
    "    \n",
    "    def __init__(self, nombre_bbdd):\n",
    "        self.nombre_bdd= nombre_bbdd\n",
    "        \n",
    "        \n",
    "    \n",
    "    def crear_bbdd(self,nombre_bbdd):\n",
    "\n",
    "        mydb = mysql.connector.connect(\n",
    "        host='127.0.0.1',\n",
    "        user=\"root\",\n",
    "        password='AlumnaAdalab'\n",
    "        )\n",
    "        print(\"Conexión realizada con éxito\")\n",
    "        \n",
    "        mycursor = mydb.cursor()\n",
    "\n",
    "        try:\n",
    "            mycursor.execute(f\"CREATE DATABASE IF NOT EXISTS {nombre_bbdd};\")\n",
    "            print(mycursor)\n",
    "        except mysql.connector.Error as err:\n",
    "            print(err)\n",
    "            print(\"Error Code:\", err.errno)\n",
    "            print(\"SQLSTATE\", err.sqlstate)\n",
    "            print(\"Message\", err.msg)\n",
    "\n",
    "\n",
    "\n",
    "    def crear_insertar_tabla(self,nombre_bbdd, query):\n",
    "    \n",
    "        # nos conectamsos con el servidor usando el conector de sql\n",
    "        cnx = mysql.connector.connect(user='root', password='AlumnaAdalab',\n",
    "                                        host='127.0.0.1', database=f\"{nombre_bbdd}\")\n",
    "        # iniciamos el cursor\n",
    "        mycursor = cnx.cursor()\n",
    "        \n",
    "        # intentamos hacer la query\n",
    "        try: \n",
    "            mycursor.execute(query)\n",
    "            cnx.commit() \n",
    "        # en caso de que podamos ejecutar la query devuelvenos un error para saber en que nos estamos equivocando\n",
    "        except mysql.connector.Error as err:\n",
    "            print(err)\n",
    "            print(\"Error Code:\", err.errno)\n",
    "            print(\"SQLSTATE\", err.sqlstate)\n",
    "            print(\"Message\", err.msg)\n",
    "        "
   ]
  }
 ],
 "metadata": {
  "kernelspec": {
   "display_name": "Python 3.9.7 ('base')",
   "language": "python",
   "name": "python3"
  },
  "language_info": {
   "codemirror_mode": {
    "name": "ipython",
    "version": 3
   },
   "file_extension": ".py",
   "mimetype": "text/x-python",
   "name": "python",
   "nbconvert_exporter": "python",
   "pygments_lexer": "ipython3",
   "version": "3.9.7"
  },
  "orig_nbformat": 4,
  "vscode": {
   "interpreter": {
    "hash": "e52e54b208979dc3580fb1371da7079de391a2363b0575de5d9739fd636c0787"
   }
  }
 },
 "nbformat": 4,
 "nbformat_minor": 2
}
